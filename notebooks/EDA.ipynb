{
 "cells": [
  {
   "cell_type": "markdown",
   "metadata": {},
   "source": [
    "# EDA "
   ]
  },
  {
   "cell_type": "code",
   "execution_count": 1,
   "metadata": {},
   "outputs": [],
   "source": [
    "import pandas as pd\n",
    "import matplotlib.pyplot as plt"
   ]
  },
  {
   "cell_type": "code",
   "execution_count": 60,
   "metadata": {},
   "outputs": [],
   "source": [
    "#read data\n",
    "dl_during_request_df = pd.read_csv('../data/driver_locations_during_request.csv')\n",
    "trip_df = pd.read_csv('../data/nb.csv')"
   ]
  },
  {
   "cell_type": "code",
   "execution_count": 61,
   "metadata": {},
   "outputs": [
    {
     "name": "stdout",
     "output_type": "stream",
     "text": [
      "<class 'pandas.core.frame.DataFrame'>\n",
      "RangeIndex: 1557740 entries, 0 to 1557739\n",
      "Data columns (total 8 columns):\n",
      " #   Column         Non-Null Count    Dtype  \n",
      "---  ------         --------------    -----  \n",
      " 0   id             1557740 non-null  int64  \n",
      " 1   order_id       1557740 non-null  int64  \n",
      " 2   driver_id      1557740 non-null  int64  \n",
      " 3   driver_action  1557740 non-null  object \n",
      " 4   lat            1557740 non-null  float64\n",
      " 5   lng            1557740 non-null  float64\n",
      " 6   created_at     0 non-null        float64\n",
      " 7   updated_at     0 non-null        float64\n",
      "dtypes: float64(4), int64(3), object(1)\n",
      "memory usage: 95.1+ MB\n"
     ]
    }
   ],
   "source": [
    "dl_during_request_df.info()"
   ]
  },
  {
   "cell_type": "code",
   "execution_count": 62,
   "metadata": {},
   "outputs": [
    {
     "name": "stdout",
     "output_type": "stream",
     "text": [
      "<class 'pandas.core.frame.DataFrame'>\n",
      "RangeIndex: 536020 entries, 0 to 536019\n",
      "Data columns (total 5 columns):\n",
      " #   Column            Non-Null Count   Dtype \n",
      "---  ------            --------------   ----- \n",
      " 0   Trip ID           536020 non-null  int64 \n",
      " 1   Trip Origin       536020 non-null  object\n",
      " 2   Trip Destination  536020 non-null  object\n",
      " 3   Trip Start Time   534369 non-null  object\n",
      " 4   Trip End Time     536019 non-null  object\n",
      "dtypes: int64(1), object(4)\n",
      "memory usage: 20.4+ MB\n"
     ]
    }
   ],
   "source": [
    "trip_df.info()"
   ]
  },
  {
   "cell_type": "markdown",
   "metadata": {},
   "source": [
    "### Checking missing values"
   ]
  },
  {
   "cell_type": "code",
   "execution_count": 63,
   "metadata": {},
   "outputs": [
    {
     "data": {
      "text/plain": [
       "id                     0\n",
       "order_id               0\n",
       "driver_id              0\n",
       "driver_action          0\n",
       "lat                    0\n",
       "lng                    0\n",
       "created_at       1557740\n",
       "updated_at       1557740\n",
       "dtype: int64"
      ]
     },
     "execution_count": 63,
     "metadata": {},
     "output_type": "execute_result"
    }
   ],
   "source": [
    "dl_during_request_df.isnull().sum()"
   ]
  },
  {
   "cell_type": "markdown",
   "metadata": {},
   "source": [
    "As we can see there are 1557740 missing values in created_at and updated_at, since the dataset row count is 1557740. it is obvious that the two columns are null for all the rows. Therefore we will remove/drop them from the dataset."
   ]
  },
  {
   "cell_type": "code",
   "execution_count": 75,
   "metadata": {},
   "outputs": [
    {
     "data": {
      "text/plain": [
       "trip_id                0\n",
       "trip_origin            0\n",
       "trip_destination       0\n",
       "trip_start_time     1651\n",
       "trip_end_time          1\n",
       "dtype: int64"
      ]
     },
     "execution_count": 75,
     "metadata": {},
     "output_type": "execute_result"
    }
   ],
   "source": [
    "trip_df.isnull().sum()"
   ]
  },
  {
   "cell_type": "markdown",
   "metadata": {},
   "source": [
    "As we can see we have 1651 missing values in the ``trip_start_time`` column and 1 at the ``trip_end_time`` we can assume that entries with null trip_start_time, are the once that got canceled after being accepted by the drivers.  "
   ]
  },
  {
   "cell_type": "markdown",
   "metadata": {},
   "source": [
    "## Data Cleaning"
   ]
  },
  {
   "cell_type": "code",
   "execution_count": 65,
   "metadata": {},
   "outputs": [
    {
     "data": {
      "text/plain": [
       "Index(['trip_id', 'trip_origin', 'trip_destination', 'trip_start_time',\n",
       "       'trip_end_time'],\n",
       "      dtype='object')"
      ]
     },
     "execution_count": 65,
     "metadata": {},
     "output_type": "execute_result"
    }
   ],
   "source": [
    "#rename the column names of trip_df\n",
    "trip_df = trip_df.rename(\n",
    "    columns={'Trip ID': 'trip_id', \n",
    "    'Trip Origin': 'trip_origin', \n",
    "    'Trip Destination': 'trip_destination', \n",
    "    'Trip Start Time': 'trip_start_time', \n",
    "    'Trip End Time': 'trip_end_time',})\n",
    "trip_df.columns"
   ]
  },
  {
   "cell_type": "code",
   "execution_count": 66,
   "metadata": {},
   "outputs": [
    {
     "data": {
      "text/plain": [
       "id               0\n",
       "order_id         0\n",
       "driver_id        0\n",
       "driver_action    0\n",
       "lat              0\n",
       "lng              0\n",
       "dtype: int64"
      ]
     },
     "execution_count": 66,
     "metadata": {},
     "output_type": "execute_result"
    }
   ],
   "source": [
    "#drop created_at and updated_at columns\n",
    "dl_during_request_df.drop(columns=['created_at', 'updated_at'], inplace=True)\n",
    "dl_during_request_df.isnull().sum()"
   ]
  },
  {
   "cell_type": "code",
   "execution_count": 83,
   "metadata": {},
   "outputs": [
    {
     "name": "stdout",
     "output_type": "stream",
     "text": [
      "<class 'pandas.core.frame.DataFrame'>\n",
      "Int64Index: 1651 entries, 665 to 535758\n",
      "Data columns (total 5 columns):\n",
      " #   Column            Non-Null Count  Dtype \n",
      "---  ------            --------------  ----- \n",
      " 0   trip_id           1651 non-null   int64 \n",
      " 1   trip_origin       1651 non-null   object\n",
      " 2   trip_destination  1651 non-null   object\n",
      " 3   trip_start_time   0 non-null      object\n",
      " 4   trip_end_time     1651 non-null   object\n",
      "dtypes: int64(1), object(4)\n",
      "memory usage: 77.4+ KB\n"
     ]
    }
   ],
   "source": [
    "#store rows in trip_df whose trip_start_time is null to a diffrent datafarme\n",
    "cancelled_orders_df = trip_df[trip_df['trip_start_time'].isnull()]\n",
    "cancelled_orders_df.info()"
   ]
  },
  {
   "cell_type": "code",
   "execution_count": 84,
   "metadata": {},
   "outputs": [
    {
     "data": {
      "text/plain": [
       "trip_id             0\n",
       "trip_origin         0\n",
       "trip_destination    0\n",
       "trip_start_time     0\n",
       "trip_end_time       0\n",
       "dtype: int64"
      ]
     },
     "execution_count": 84,
     "metadata": {},
     "output_type": "execute_result"
    }
   ],
   "source": [
    "#now drop null rows\n",
    "trip_df.dropna(inplace=True)\n",
    "trip_df.isna().sum()"
   ]
  },
  {
   "cell_type": "code",
   "execution_count": 19,
   "metadata": {},
   "outputs": [
    {
     "data": {
      "text/plain": [
       "(25903, 8)"
      ]
     },
     "execution_count": 19,
     "metadata": {},
     "output_type": "execute_result"
    }
   ],
   "source": [
    "#accepted orders \n",
    "accepted_orders_df = dl_during_request_df[dl_during_request_df['driver_action'] == \"accepted\"]\n",
    "accepted_orders_df.shape"
   ]
  },
  {
   "cell_type": "markdown",
   "metadata": {},
   "source": [
    "## Merge The Two Datasets"
   ]
  },
  {
   "cell_type": "code",
   "execution_count": 49,
   "metadata": {},
   "outputs": [
    {
     "data": {
      "text/plain": [
       "trip_id              0\n",
       "trip_origin          0\n",
       "trip_destination     0\n",
       "trip_start_time     32\n",
       "trip_end_time        0\n",
       "order_id             0\n",
       "driver_id            0\n",
       "driver_action        0\n",
       "lat                  0\n",
       "lng                  0\n",
       "dtype: int64"
      ]
     },
     "execution_count": 49,
     "metadata": {},
     "output_type": "execute_result"
    }
   ],
   "source": [
    "merged_df = pd.merge(trip_df, accepted_orders_df[['order_id','driver_id', 'driver_action', 'lat', 'lng']], left_on='trip_id', right_on='order_id', how='right' )\n",
    "merged_df.isnull().sum()"
   ]
  },
  {
   "cell_type": "markdown",
   "metadata": {},
   "source": [
    "\n",
    "- nb.csv(i.e. trip_df) contains 535k orders created in the span of 6 months from July 2021 - December 2021\n",
    "driver_locations_during_request.csv (i.e. dl_during_request_df) contains driver order requests and the location of the driver during the request for each order in the nb.csv (Trip ID). Since this is a very data intensive task our client calculated it only for one month.\n",
    "\n",
    "- ``driver_locations_during_request.csv#order_id == nb.csv#trip_id``\n"
   ]
  }
 ],
 "metadata": {
  "kernelspec": {
   "display_name": "Python 3.9.12 ('venv': venv)",
   "language": "python",
   "name": "python3"
  },
  "language_info": {
   "codemirror_mode": {
    "name": "ipython",
    "version": 3
   },
   "file_extension": ".py",
   "mimetype": "text/x-python",
   "name": "python",
   "nbconvert_exporter": "python",
   "pygments_lexer": "ipython3",
   "version": "3.9.12"
  },
  "orig_nbformat": 4,
  "vscode": {
   "interpreter": {
    "hash": "fc46523ca0e0edbe85301338ebdc18cc5fcbcaa15e68fa6f4daed31a3a3d572c"
   }
  }
 },
 "nbformat": 4,
 "nbformat_minor": 2
}
