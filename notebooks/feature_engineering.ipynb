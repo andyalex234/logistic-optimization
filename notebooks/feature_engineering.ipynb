{
 "cells": [
  {
   "cell_type": "code",
   "execution_count": 1,
   "metadata": {},
   "outputs": [],
   "source": [
    "import pandas as pd\n",
    "import matplotlib.pyplot as plt\n",
    "import sys, os\n",
    "import requests\n",
    "import json\n",
    "import datetime\n",
    "import time"
   ]
  },
  {
   "cell_type": "code",
   "execution_count": 2,
   "metadata": {},
   "outputs": [],
   "source": [
    "#adding scripts path\n",
    "sys.path.append(os.path.abspath(os.path.join('..')))\n",
    "#import scripts\n",
    "from scripts.data_extractor import DataExtractor\n",
    "from scripts.data_manipulator import DataManipulator\n",
    "from config.config import open_weather_api_key\n",
    "from config.config import HOLIDAY_API_KEY"
   ]
  },
  {
   "cell_type": "code",
   "execution_count": 3,
   "metadata": {},
   "outputs": [],
   "source": [
    "#instantiate objects\n",
    "extractor = DataExtractor()\n",
    "manipulator = DataManipulator()"
   ]
  },
  {
   "cell_type": "code",
   "execution_count": 4,
   "metadata": {},
   "outputs": [
    {
     "name": "stdout",
     "output_type": "stream",
     "text": [
      "<class 'pandas.core.frame.DataFrame'>\n",
      "RangeIndex: 25903 entries, 0 to 25902\n",
      "Data columns (total 11 columns):\n",
      " #   Column            Non-Null Count  Dtype  \n",
      "---  ------            --------------  -----  \n",
      " 0   Unnamed: 0        25903 non-null  int64  \n",
      " 1   trip_id           25871 non-null  float64\n",
      " 2   trip_origin       25871 non-null  object \n",
      " 3   trip_destination  25871 non-null  object \n",
      " 4   trip_start_time   25871 non-null  object \n",
      " 5   trip_end_time     25871 non-null  object \n",
      " 6   order_id          25903 non-null  int64  \n",
      " 7   driver_id         25903 non-null  int64  \n",
      " 8   driver_action     25903 non-null  object \n",
      " 9   lat               25903 non-null  float64\n",
      " 10  lng               25903 non-null  float64\n",
      "dtypes: float64(3), int64(3), object(5)\n",
      "memory usage: 2.2+ MB\n"
     ]
    }
   ],
   "source": [
    "#fetch the data\n",
    "order_trip_df = extractor.read_csv('../data/generated/order_trip.csv')\n",
    "order_trip_df.info()"
   ]
  },
  {
   "cell_type": "code",
   "execution_count": 5,
   "metadata": {},
   "outputs": [
    {
     "name": "stdout",
     "output_type": "stream",
     "text": [
      "<class 'pandas.core.frame.DataFrame'>\n",
      "RangeIndex: 25903 entries, 0 to 25902\n",
      "Data columns (total 11 columns):\n",
      " #   Column            Non-Null Count  Dtype         \n",
      "---  ------            --------------  -----         \n",
      " 0   Unnamed: 0        25903 non-null  int64         \n",
      " 1   trip_id           25871 non-null  float64       \n",
      " 2   trip_origin       25871 non-null  object        \n",
      " 3   trip_destination  25871 non-null  object        \n",
      " 4   trip_start_time   25871 non-null  datetime64[ns]\n",
      " 5   trip_end_time     25871 non-null  datetime64[ns]\n",
      " 6   order_id          25903 non-null  int64         \n",
      " 7   driver_id         25903 non-null  int64         \n",
      " 8   driver_action     25903 non-null  object        \n",
      " 9   lat               25903 non-null  float64       \n",
      " 10  lng               25903 non-null  float64       \n",
      "dtypes: datetime64[ns](2), float64(3), int64(3), object(3)\n",
      "memory usage: 2.2+ MB\n"
     ]
    }
   ],
   "source": [
    "order_trip_df['trip_start_time'] = pd.to_datetime(order_trip_df['trip_start_time'])\n",
    "order_trip_df['trip_end_time'] = pd.to_datetime(order_trip_df['trip_end_time'])\n",
    "order_trip_df.info()"
   ]
  },
  {
   "cell_type": "code",
   "execution_count": 6,
   "metadata": {},
   "outputs": [
    {
     "name": "stdout",
     "output_type": "stream",
     "text": [
      "2021-07-01 09:30:59 2021-09-10 11:47:26\n"
     ]
    }
   ],
   "source": [
    "start_date = order_trip_df['trip_start_time'].iloc[0]\n",
    "end_date = order_trip_df['trip_start_time'].iloc[-1]\n",
    "print(start_date, end_date)"
   ]
  },
  {
   "cell_type": "markdown",
   "metadata": {},
   "source": [
    "### Rain vs No-Rain"
   ]
  },
  {
   "cell_type": "code",
   "execution_count": 7,
   "metadata": {},
   "outputs": [
    {
     "data": {
      "text/plain": [
       "{'id': 2332459,\n",
       " 'city': {'id': {'$numberLong': '2332459'},\n",
       "  'name': 'Lagos',\n",
       "  'findname': 'LAGOS',\n",
       "  'country': 'NG',\n",
       "  'coord': {'lon': 3.39583, 'lat': 6.45306},\n",
       "  'zoom': {'$numberLong': '1'}}}"
      ]
     },
     "execution_count": 7,
     "metadata": {},
     "output_type": "execute_result"
    }
   ],
   "source": [
    "with open('../config/city.json') as f:\n",
    "    data = json.load(f)\n",
    "data"
   ]
  },
  {
   "cell_type": "code",
   "execution_count": 8,
   "metadata": {},
   "outputs": [
    {
     "name": "stdout",
     "output_type": "stream",
     "text": [
      "1625121059.0 1631263646.0\n"
     ]
    }
   ],
   "source": [
    "#get coordinates and other args ready for the api call\n",
    "coord = data['city']['coord']\n",
    "lat = coord['lat']\n",
    "lon = coord['lon']\n",
    "start = time.mktime(start_date.timetuple())\n",
    "end = time.mktime(end_date.timetuple())\n",
    "print(start, end)\n",
    "url = f'https://history.openweathermap.org/data/2.5/history/city?lat={lat}&lon={lon}&type=hour&start={start}&end={end}&appid={open_weather_api_key}'"
   ]
  },
  {
   "cell_type": "code",
   "execution_count": null,
   "metadata": {},
   "outputs": [],
   "source": [
    "#call the api\n",
    "r = requests.get(url)\n",
    "j=r.json()\n",
    "j"
   ]
  },
  {
   "cell_type": "markdown",
   "metadata": {},
   "source": [
    "unfortunately the open weather api wouldn't allow us to get data between the ranges we want therefore we abandon this feature. "
   ]
  },
  {
   "cell_type": "markdown",
   "metadata": {},
   "source": [
    "### Holiday vs Not-Holiday"
   ]
  },
  {
   "cell_type": "code",
   "execution_count": 10,
   "metadata": {},
   "outputs": [],
   "source": [
    "#define params\n",
    "year=2021\n",
    "country=\"NG\"\n",
    "key=HOLIDAY_API_KEY\n",
    "url = f'https://holidayapi.com/v1/holidays?key={key}&year={year}&country={country}'"
   ]
  },
  {
   "cell_type": "code",
   "execution_count": 11,
   "metadata": {},
   "outputs": [],
   "source": [
    "#get holidays\n",
    "holiday_result = requests.get(url)\n",
    "holiday_result_json= holiday_result.json()"
   ]
  },
  {
   "cell_type": "code",
   "execution_count": 12,
   "metadata": {},
   "outputs": [
    {
     "name": "stdout",
     "output_type": "stream",
     "text": [
      "2021-01-01\n",
      "2021-03-08\n",
      "2021-03-14\n",
      "2021-03-20\n",
      "2021-04-02\n",
      "2021-04-03\n",
      "2021-04-04\n",
      "2021-04-05\n",
      "2021-05-01\n",
      "2021-05-13\n",
      "2021-06-12\n",
      "2021-06-15\n",
      "2021-06-20\n",
      "2021-06-21\n",
      "2021-07-20\n",
      "2021-09-22\n",
      "2021-10-01\n",
      "2021-10-19\n",
      "2021-12-21\n",
      "2021-12-24\n",
      "2021-12-25\n",
      "2021-12-26\n",
      "2021-12-31\n"
     ]
    }
   ],
   "source": [
    "for h in holiday_result_json['holidays']:\n",
    "    print(h['date'])"
   ]
  },
  {
   "cell_type": "code",
   "execution_count": 13,
   "metadata": {},
   "outputs": [],
   "source": [
    "def checkHoliday(date:str, holidays:list )-> bool:\n",
    "    for holiday in holidays:\n",
    "        if holiday['date'] == date:\n",
    "            return True\n",
    "    return False"
   ]
  },
  {
   "cell_type": "code",
   "execution_count": 14,
   "metadata": {},
   "outputs": [],
   "source": [
    "isHoliday = []\n",
    "for index, row in order_trip_df.iterrows():\n",
    "   if checkHoliday(str(row[\"trip_start_time\"].date()), holiday_result_json['holidays']):\n",
    "      isHoliday.append(1)\n",
    "   isHoliday.append(0)\n",
    "order_trip_df[\"isHoliday\"] = isHoliday\n",
    "    "
   ]
  },
  {
   "cell_type": "code",
   "execution_count": 15,
   "metadata": {},
   "outputs": [
    {
     "data": {
      "text/plain": [
       "0"
      ]
     },
     "execution_count": 15,
     "metadata": {},
     "output_type": "execute_result"
    }
   ],
   "source": [
    "len(order_trip_df[order_trip_df['isHoliday'] == 1])"
   ]
  },
  {
   "cell_type": "markdown",
   "metadata": {},
   "source": [
    "as we can see there are no accepted orders in holidays"
   ]
  },
  {
   "cell_type": "markdown",
   "metadata": {},
   "source": [
    "### Weekday vs Weekend"
   ]
  },
  {
   "cell_type": "code",
   "execution_count": 16,
   "metadata": {},
   "outputs": [
    {
     "name": "stdout",
     "output_type": "stream",
     "text": [
      "Failed to Add WeekDay Column\n"
     ]
    }
   ],
   "source": [
    "order_trip_df.columns.get_loc\n",
    "order_trip_df.insert()"
   ]
  },
  {
   "cell_type": "code",
   "execution_count": 17,
   "metadata": {},
   "outputs": [
    {
     "data": {
      "text/html": [
       "<div>\n",
       "<style scoped>\n",
       "    .dataframe tbody tr th:only-of-type {\n",
       "        vertical-align: middle;\n",
       "    }\n",
       "\n",
       "    .dataframe tbody tr th {\n",
       "        vertical-align: top;\n",
       "    }\n",
       "\n",
       "    .dataframe thead th {\n",
       "        text-align: right;\n",
       "    }\n",
       "</style>\n",
       "<table border=\"1\" class=\"dataframe\">\n",
       "  <thead>\n",
       "    <tr style=\"text-align: right;\">\n",
       "      <th></th>\n",
       "      <th>Unnamed: 0</th>\n",
       "      <th>trip_id</th>\n",
       "      <th>trip_origin</th>\n",
       "      <th>trip_destination</th>\n",
       "      <th>trip_start_time</th>\n",
       "      <th>trip_end_time</th>\n",
       "      <th>order_id</th>\n",
       "      <th>driver_id</th>\n",
       "      <th>driver_action</th>\n",
       "      <th>lat</th>\n",
       "      <th>lng</th>\n",
       "      <th>isHoliday</th>\n",
       "      <th>isWeekDay</th>\n",
       "    </tr>\n",
       "  </thead>\n",
       "  <tbody>\n",
       "    <tr>\n",
       "      <th>0</th>\n",
       "      <td>0</td>\n",
       "      <td>392001.0</td>\n",
       "      <td>6.6010417,3.2766339</td>\n",
       "      <td>6.4501069,3.3916154</td>\n",
       "      <td>2021-07-01 09:30:59</td>\n",
       "      <td>2021-07-01 09:34:36</td>\n",
       "      <td>392001</td>\n",
       "      <td>243828</td>\n",
       "      <td>accepted</td>\n",
       "      <td>6.602207</td>\n",
       "      <td>3.270465</td>\n",
       "      <td>0</td>\n",
       "      <td>None</td>\n",
       "    </tr>\n",
       "    <tr>\n",
       "      <th>1</th>\n",
       "      <td>1</td>\n",
       "      <td>392005.0</td>\n",
       "      <td>6.565087699999999,3.3844415</td>\n",
       "      <td>6.499696300000001,3.3509075</td>\n",
       "      <td>2021-07-01 10:53:36</td>\n",
       "      <td>2021-07-01 11:27:51</td>\n",
       "      <td>392005</td>\n",
       "      <td>245597</td>\n",
       "      <td>accepted</td>\n",
       "      <td>6.549147</td>\n",
       "      <td>3.392184</td>\n",
       "      <td>0</td>\n",
       "      <td>None</td>\n",
       "    </tr>\n",
       "    <tr>\n",
       "      <th>2</th>\n",
       "      <td>2</td>\n",
       "      <td>392009.0</td>\n",
       "      <td>6.6636484,3.3082058</td>\n",
       "      <td>6.6185421,3.301634</td>\n",
       "      <td>2021-07-01 06:39:51</td>\n",
       "      <td>2021-07-01 07:41:12</td>\n",
       "      <td>392009</td>\n",
       "      <td>245600</td>\n",
       "      <td>accepted</td>\n",
       "      <td>6.644829</td>\n",
       "      <td>3.289328</td>\n",
       "      <td>0</td>\n",
       "      <td>None</td>\n",
       "    </tr>\n",
       "    <tr>\n",
       "      <th>3</th>\n",
       "      <td>3</td>\n",
       "      <td>392013.0</td>\n",
       "      <td>6.4308171,3.4341552</td>\n",
       "      <td>6.435460000000001,3.4846547</td>\n",
       "      <td>2021-07-01 08:44:09</td>\n",
       "      <td>2021-07-01 09:19:11</td>\n",
       "      <td>392013</td>\n",
       "      <td>243892</td>\n",
       "      <td>accepted</td>\n",
       "      <td>6.435331</td>\n",
       "      <td>3.424317</td>\n",
       "      <td>0</td>\n",
       "      <td>None</td>\n",
       "    </tr>\n",
       "    <tr>\n",
       "      <th>4</th>\n",
       "      <td>4</td>\n",
       "      <td>392014.0</td>\n",
       "      <td>6.499156300000001,3.3585173</td>\n",
       "      <td>6.4280911,3.5157172</td>\n",
       "      <td>2021-07-01 06:43:07</td>\n",
       "      <td>2021-07-01 07:27:24</td>\n",
       "      <td>392014</td>\n",
       "      <td>243781</td>\n",
       "      <td>accepted</td>\n",
       "      <td>6.498221</td>\n",
       "      <td>3.360042</td>\n",
       "      <td>0</td>\n",
       "      <td>None</td>\n",
       "    </tr>\n",
       "    <tr>\n",
       "      <th>...</th>\n",
       "      <td>...</td>\n",
       "      <td>...</td>\n",
       "      <td>...</td>\n",
       "      <td>...</td>\n",
       "      <td>...</td>\n",
       "      <td>...</td>\n",
       "      <td>...</td>\n",
       "      <td>...</td>\n",
       "      <td>...</td>\n",
       "      <td>...</td>\n",
       "      <td>...</td>\n",
       "      <td>...</td>\n",
       "      <td>...</td>\n",
       "    </tr>\n",
       "    <tr>\n",
       "      <th>25898</th>\n",
       "      <td>25898</td>\n",
       "      <td>489898.0</td>\n",
       "      <td>6.442073199999999,3.4788716</td>\n",
       "      <td>6.439366,3.5020578</td>\n",
       "      <td>2022-02-04 17:09:00</td>\n",
       "      <td>2022-02-04 17:51:19</td>\n",
       "      <td>489898</td>\n",
       "      <td>246615</td>\n",
       "      <td>accepted</td>\n",
       "      <td>6.443810</td>\n",
       "      <td>3.464208</td>\n",
       "      <td>0</td>\n",
       "      <td>None</td>\n",
       "    </tr>\n",
       "    <tr>\n",
       "      <th>25899</th>\n",
       "      <td>25899</td>\n",
       "      <td>490008.0</td>\n",
       "      <td>6.4461993,3.5497557</td>\n",
       "      <td>6.475137000000001,3.5644741</td>\n",
       "      <td>2022-02-27 09:07:59</td>\n",
       "      <td>2022-02-27 09:17:41</td>\n",
       "      <td>490008</td>\n",
       "      <td>247877</td>\n",
       "      <td>accepted</td>\n",
       "      <td>6.448554</td>\n",
       "      <td>3.574380</td>\n",
       "      <td>0</td>\n",
       "      <td>None</td>\n",
       "    </tr>\n",
       "    <tr>\n",
       "      <th>25900</th>\n",
       "      <td>25900</td>\n",
       "      <td>497721.0</td>\n",
       "      <td>6.482082176631842,3.3828646009695547</td>\n",
       "      <td>6.4632478,3.6239759</td>\n",
       "      <td>2021-09-04 14:30:57</td>\n",
       "      <td>2021-09-04 15:18:38</td>\n",
       "      <td>497721</td>\n",
       "      <td>243414</td>\n",
       "      <td>accepted</td>\n",
       "      <td>6.498164</td>\n",
       "      <td>3.359964</td>\n",
       "      <td>0</td>\n",
       "      <td>None</td>\n",
       "    </tr>\n",
       "    <tr>\n",
       "      <th>25901</th>\n",
       "      <td>25901</td>\n",
       "      <td>510268.0</td>\n",
       "      <td>6.4494186,3.4016453</td>\n",
       "      <td>6.6070099,3.3501947</td>\n",
       "      <td>2022-01-21 11:05:47</td>\n",
       "      <td>2022-01-21 12:12:39</td>\n",
       "      <td>510268</td>\n",
       "      <td>243532</td>\n",
       "      <td>accepted</td>\n",
       "      <td>6.462251</td>\n",
       "      <td>3.391023</td>\n",
       "      <td>0</td>\n",
       "      <td>None</td>\n",
       "    </tr>\n",
       "    <tr>\n",
       "      <th>25902</th>\n",
       "      <td>25902</td>\n",
       "      <td>517948.0</td>\n",
       "      <td>6.443373599999999,3.5523123</td>\n",
       "      <td>6.500608199999999,3.5981937</td>\n",
       "      <td>2021-09-10 11:47:26</td>\n",
       "      <td>2021-09-10 13:30:13</td>\n",
       "      <td>517948</td>\n",
       "      <td>245874</td>\n",
       "      <td>accepted</td>\n",
       "      <td>6.464150</td>\n",
       "      <td>3.552330</td>\n",
       "      <td>0</td>\n",
       "      <td>None</td>\n",
       "    </tr>\n",
       "  </tbody>\n",
       "</table>\n",
       "<p>25903 rows × 13 columns</p>\n",
       "</div>"
      ],
      "text/plain": [
       "       Unnamed: 0   trip_id                           trip_origin  \\\n",
       "0               0  392001.0                   6.6010417,3.2766339   \n",
       "1               1  392005.0           6.565087699999999,3.3844415   \n",
       "2               2  392009.0                   6.6636484,3.3082058   \n",
       "3               3  392013.0                   6.4308171,3.4341552   \n",
       "4               4  392014.0           6.499156300000001,3.3585173   \n",
       "...           ...       ...                                   ...   \n",
       "25898       25898  489898.0           6.442073199999999,3.4788716   \n",
       "25899       25899  490008.0                   6.4461993,3.5497557   \n",
       "25900       25900  497721.0  6.482082176631842,3.3828646009695547   \n",
       "25901       25901  510268.0                   6.4494186,3.4016453   \n",
       "25902       25902  517948.0           6.443373599999999,3.5523123   \n",
       "\n",
       "                  trip_destination     trip_start_time       trip_end_time  \\\n",
       "0              6.4501069,3.3916154 2021-07-01 09:30:59 2021-07-01 09:34:36   \n",
       "1      6.499696300000001,3.3509075 2021-07-01 10:53:36 2021-07-01 11:27:51   \n",
       "2               6.6185421,3.301634 2021-07-01 06:39:51 2021-07-01 07:41:12   \n",
       "3      6.435460000000001,3.4846547 2021-07-01 08:44:09 2021-07-01 09:19:11   \n",
       "4              6.4280911,3.5157172 2021-07-01 06:43:07 2021-07-01 07:27:24   \n",
       "...                            ...                 ...                 ...   \n",
       "25898           6.439366,3.5020578 2022-02-04 17:09:00 2022-02-04 17:51:19   \n",
       "25899  6.475137000000001,3.5644741 2022-02-27 09:07:59 2022-02-27 09:17:41   \n",
       "25900          6.4632478,3.6239759 2021-09-04 14:30:57 2021-09-04 15:18:38   \n",
       "25901          6.6070099,3.3501947 2022-01-21 11:05:47 2022-01-21 12:12:39   \n",
       "25902  6.500608199999999,3.5981937 2021-09-10 11:47:26 2021-09-10 13:30:13   \n",
       "\n",
       "       order_id  driver_id driver_action       lat       lng  isHoliday  \\\n",
       "0        392001     243828      accepted  6.602207  3.270465          0   \n",
       "1        392005     245597      accepted  6.549147  3.392184          0   \n",
       "2        392009     245600      accepted  6.644829  3.289328          0   \n",
       "3        392013     243892      accepted  6.435331  3.424317          0   \n",
       "4        392014     243781      accepted  6.498221  3.360042          0   \n",
       "...         ...        ...           ...       ...       ...        ...   \n",
       "25898    489898     246615      accepted  6.443810  3.464208          0   \n",
       "25899    490008     247877      accepted  6.448554  3.574380          0   \n",
       "25900    497721     243414      accepted  6.498164  3.359964          0   \n",
       "25901    510268     243532      accepted  6.462251  3.391023          0   \n",
       "25902    517948     245874      accepted  6.464150  3.552330          0   \n",
       "\n",
       "      isWeekDay  \n",
       "0          None  \n",
       "1          None  \n",
       "2          None  \n",
       "3          None  \n",
       "4          None  \n",
       "...         ...  \n",
       "25898      None  \n",
       "25899      None  \n",
       "25900      None  \n",
       "25901      None  \n",
       "25902      None  \n",
       "\n",
       "[25903 rows x 13 columns]"
      ]
     },
     "execution_count": 17,
     "metadata": {},
     "output_type": "execute_result"
    }
   ],
   "source": [
    "order_trip_df"
   ]
  },
  {
   "cell_type": "markdown",
   "metadata": {},
   "source": [
    "### Traffic Condition"
   ]
  },
  {
   "cell_type": "code",
   "execution_count": null,
   "metadata": {},
   "outputs": [],
   "source": []
  }
 ],
 "metadata": {
  "kernelspec": {
   "display_name": "Python 3.9.12 ('venv': venv)",
   "language": "python",
   "name": "python3"
  },
  "language_info": {
   "codemirror_mode": {
    "name": "ipython",
    "version": 3
   },
   "file_extension": ".py",
   "mimetype": "text/x-python",
   "name": "python",
   "nbconvert_exporter": "python",
   "pygments_lexer": "ipython3",
   "version": "3.9.12"
  },
  "orig_nbformat": 4,
  "vscode": {
   "interpreter": {
    "hash": "fc46523ca0e0edbe85301338ebdc18cc5fcbcaa15e68fa6f4daed31a3a3d572c"
   }
  }
 },
 "nbformat": 4,
 "nbformat_minor": 2
}
