{
 "cells": [
  {
   "cell_type": "code",
   "execution_count": null,
   "metadata": {},
   "outputs": [],
   "source": [
    "import pandas as pd\n",
    "import matplotlib.pyplot as plt\n",
    "import sys, os"
   ]
  },
  {
   "cell_type": "code",
   "execution_count": null,
   "metadata": {},
   "outputs": [],
   "source": [
    "#adding scripts path\n",
    "sys.path.append(os.path.abspath(os.path.join('..')))\n",
    "#import scripts\n",
    "from scripts.data_extractor import DataExtractor\n",
    "from scripts.data_manipulator import DataManipulator"
   ]
  },
  {
   "cell_type": "code",
   "execution_count": null,
   "metadata": {},
   "outputs": [],
   "source": [
    "#instantiate objects\n",
    "extractor = DataExtractor()\n",
    "manipulator = DataManipulator()"
   ]
  }
 ],
 "metadata": {
  "kernelspec": {
   "display_name": "Python 3.9.12 ('venv': venv)",
   "language": "python",
   "name": "python3"
  },
  "language_info": {
   "name": "python",
   "version": "3.9.12"
  },
  "orig_nbformat": 4,
  "vscode": {
   "interpreter": {
    "hash": "fc46523ca0e0edbe85301338ebdc18cc5fcbcaa15e68fa6f4daed31a3a3d572c"
   }
  }
 },
 "nbformat": 4,
 "nbformat_minor": 2
}
